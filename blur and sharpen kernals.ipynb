{
 "cells": [
  {
   "cell_type": "code",
   "execution_count": 2,
   "id": "4356d1ba",
   "metadata": {},
   "outputs": [],
   "source": [
    "import matplotlib.image as mpimg\n",
    "import matplotlib.pyplot as plt\n",
    "import numpy as np\n",
    "import cv2"
   ]
  },
  {
   "cell_type": "code",
   "execution_count": 3,
   "id": "c7e6634b",
   "metadata": {},
   "outputs": [],
   "source": [
    "image = cv2.imread('Self_Driving_Car.jpg') # finds file \n",
    "cv2.imshow('Self_Driving_Car.jpg', image)  #displays file image with title \"Self_Driving_Car.jpg\". \n",
    "cv2.waitKey() # allows us to input information when a image iwndow is open\n",
    "cv2.destroyAllWindows() # any key will destroy image and continue.\n"
   ]
  },
  {
   "cell_type": "code",
   "execution_count": 4,
   "id": "942d19f4",
   "metadata": {},
   "outputs": [
    {
     "data": {
      "text/plain": [
       "(426, 640, 3)"
      ]
     },
     "execution_count": 4,
     "metadata": {},
     "output_type": "execute_result"
    }
   ],
   "source": [
    "image.shape"
   ]
  },
  {
   "cell_type": "code",
   "execution_count": 5,
   "id": "2541eff9",
   "metadata": {},
   "outputs": [],
   "source": [
    "gray_img = cv2.cvtColor(image,cv2.COLOR_BGR2GRAY)\n",
    "cv2.imshow('Self_Driving_Car.jpg', gray_img)  #displays file image with title \"Self_Driving_Car.jpg\". \n",
    "cv2.waitKey() # allows us to input information when a image iwndow is open\n",
    "cv2.destroyAllWindows() # any key will destroy image and continue."
   ]
  },
  {
   "cell_type": "code",
   "execution_count": 10,
   "id": "d1f580b5",
   "metadata": {},
   "outputs": [],
   "source": [
    "#sharpen Kernal 1\n",
    "\n",
    "Sharp_Kernal_1= np.array([[0,-1,0],\n",
    "                       [-1,5,-1],\n",
    "                       [0,-1,0]])\n",
    "#Sharpen Kernal 2\n",
    "Sharp_Kernal_2= np.array([[-1,-1,-1],\n",
    "                         [-1,9,-1],\n",
    "                         [-1,-1,-1]])\n",
    "Sharpened_Image_1 = cv2.filter2D(gray_img,-1,Sharp_Kernal_1)\n",
    "Sharpened_Image_2 = cv2.filter2D(gray_img,-1,Sharp_Kernal_2)\n",
    "cv2.imshow('Sharpened Image_1', Sharpened_Image_1)  #displays file image with title 'Sharpened Image_1'. \n",
    "cv2.imshow('Sharpened Image_2', Sharpened_Image_2)  #displays file image with title 'Sharpened Image_2'. \n",
    "cv2.waitKey() # allows us to input information when a image iwndow is open\n",
    "cv2.destroyAllWindows() # any key will destroy image and continue.\n"
   ]
  },
  {
   "cell_type": "code",
   "execution_count": 20,
   "id": "d6d9663b",
   "metadata": {},
   "outputs": [],
   "source": [
    "# BLuring Kernal\n",
    "blur_value =25 \n",
    "Blur_Kernal = np.ones((blur_value,blur_value)) * 1/(blur_value*blur_value) # normalized blur kernal, without *blur_value ^2 it will white shift\n",
    "Blurred_Image = cv2.filter2D(gray_img, -1,Blur_Kernal)\n",
    "cv2.imshow('Blurred Image', Blurred_Image)  #displays file image with title \"Self_Driving_Car.jpg\". \n",
    "cv2.waitKey() # allows us to input information when a image iwndow is open\n",
    "cv2.destroyAllWindows() # any key will destroy image and continue.\n"
   ]
  },
  {
   "cell_type": "code",
   "execution_count": null,
   "id": "28e566de",
   "metadata": {},
   "outputs": [],
   "source": []
  }
 ],
 "metadata": {
  "kernelspec": {
   "display_name": "Python 3 (ipykernel)",
   "language": "python",
   "name": "python3"
  },
  "language_info": {
   "codemirror_mode": {
    "name": "ipython",
    "version": 3
   },
   "file_extension": ".py",
   "mimetype": "text/x-python",
   "name": "python",
   "nbconvert_exporter": "python",
   "pygments_lexer": "ipython3",
   "version": "3.9.12"
  }
 },
 "nbformat": 4,
 "nbformat_minor": 5
}
