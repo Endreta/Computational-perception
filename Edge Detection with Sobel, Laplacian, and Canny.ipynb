{
 "cells": [
  {
   "cell_type": "markdown",
   "id": "3777dda1",
   "metadata": {},
   "source": [
    "# Edge Detection"
   ]
  },
  {
   "cell_type": "code",
   "execution_count": 1,
   "id": "e8c8e403",
   "metadata": {},
   "outputs": [],
   "source": [
    "import matplotlib.image as mpimg\n",
    "import matplotlib.pyplot as plt\n",
    "import numpy as np\n",
    "import cv2"
   ]
  },
  {
   "cell_type": "code",
   "execution_count": 3,
   "id": "dd07185c",
   "metadata": {},
   "outputs": [],
   "source": [
    "image = cv2.imread('Self_Driving_Car.jpg') # finds file \n",
    "gray_img = cv2.cvtColor(image, cv2.COLOR_BGR2GRAY)\n"
   ]
  },
  {
   "cell_type": "markdown",
   "id": "66729975",
   "metadata": {},
   "source": [
    "## sobel x and y"
   ]
  },
  {
   "cell_type": "code",
   "execution_count": 9,
   "id": "572b55ce",
   "metadata": {},
   "outputs": [],
   "source": [
    "x_sobel = cv2.Sobel(gray_img, cv2.CV_64F,0,1,ksize = 7)\n",
    "y_sobel = cv2.Sobel(gray_img, cv2.CV_64F,1,0,ksize = 7)\n",
    "cv2.imshow('Sobel X',x_sobel)\n",
    "cv2.imshow('Sobel y',y_sobel)\n",
    "cv2.waitKey()\n",
    "cv2.destroyAllWindows()"
   ]
  },
  {
   "cell_type": "markdown",
   "id": "24bc5cd5",
   "metadata": {},
   "source": [
    "## Laplacian"
   ]
  },
  {
   "cell_type": "code",
   "execution_count": 11,
   "id": "7384953d",
   "metadata": {},
   "outputs": [],
   "source": [
    "laplacian = cv2.Laplacian(gray_img, cv2.CV_64F)\n",
    "cv2.imshow('Laplacian',laplacian)\n",
    "cv2.waitKey()\n",
    "cv2.destroyAllWindows()"
   ]
  },
  {
   "cell_type": "markdown",
   "id": "9c2d4848",
   "metadata": {},
   "source": [
    "## Canny"
   ]
  },
  {
   "cell_type": "code",
   "execution_count": 21,
   "id": "0d4e7fbc",
   "metadata": {},
   "outputs": [],
   "source": [
    "# threshold 1 - first threshold for the hysteresis procedure\n",
    "# threshold 2 - second threshold for the hysteresis procedure\n",
    "\n",
    "threshold_1 = 200\n",
    "threshold_2 = 255\n",
    "Canny = cv2.Canny(gray_img,threshold_1,threshold_2) \n",
    "#Canny_200_250 = cv2.Canny(gray_img,200,250) \n",
    "#Canny_225_250 = cv2.Canny(gray_img,225,250)\n",
    "#Canny_250_270 = cv2.Canny(gray_img,250,270)\n",
    "#Canny_0_250 = cv2.Canny(gray_img,0,250)\n",
    "#cv2.imshow('Canny_200_250',Canny_200_250)\n",
    "#cv2.imshow('Canny_225_250',Canny_225_250)\n",
    "#cv2.imshow('Canny_250_270',Canny_250_270)\n",
    "#cv2.imshow('Canny_0_250',Canny_0_250)\n",
    "cv2.imshow('Canny',Canny)\n",
    "cv2.waitKey()\n",
    "cv2.destroyAllWindows()"
   ]
  },
  {
   "cell_type": "code",
   "execution_count": null,
   "id": "dd1119fb",
   "metadata": {},
   "outputs": [],
   "source": []
  }
 ],
 "metadata": {
  "kernelspec": {
   "display_name": "Python 3 (ipykernel)",
   "language": "python",
   "name": "python3"
  },
  "language_info": {
   "codemirror_mode": {
    "name": "ipython",
    "version": 3
   },
   "file_extension": ".py",
   "mimetype": "text/x-python",
   "name": "python",
   "nbconvert_exporter": "python",
   "pygments_lexer": "ipython3",
   "version": "3.9.12"
  }
 },
 "nbformat": 4,
 "nbformat_minor": 5
}
