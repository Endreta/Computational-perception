{
 "cells": [
  {
   "cell_type": "markdown",
   "id": "88035db9",
   "metadata": {},
   "source": [
    "# using canny, soble, and Laplacian edge detection with Webcam"
   ]
  },
  {
   "cell_type": "code",
   "execution_count": 1,
   "id": "8a0e423e",
   "metadata": {},
   "outputs": [],
   "source": [
    "import matplotlib.image as mpimg\n",
    "import matplotlib.pyplot as plt\n",
    "import numpy as np\n",
    "import cv2"
   ]
  },
  {
   "cell_type": "code",
   "execution_count": 2,
   "id": "327a8922",
   "metadata": {},
   "outputs": [],
   "source": [
    "def LiveCamEdgeDetection_Canny(image_color):\n",
    "    threshold_1 = 30\n",
    "    threshold_2 = 80\n",
    "    image_gray = cv2.cvtColor(image_color, cv2.COLOR_BGR2GRAY)\n",
    "    canny = cv2.Canny(image_gray,threshold_1,threshold_2)\n",
    "    return canny"
   ]
  },
  {
   "cell_type": "code",
   "execution_count": 3,
   "id": "75e0d89e",
   "metadata": {},
   "outputs": [],
   "source": [
    "def LiveCamEdgeDetection_Laplace(image_color):\n",
    "    image_gray = cv2.cvtColor(image_color, cv2.COLOR_BGR2GRAY)\n",
    "    laplacian = cv2.Laplacian(image_gray, cv2.CV_64F)\n",
    "    return laplacian"
   ]
  },
  {
   "cell_type": "code",
   "execution_count": 4,
   "id": "85ecbe85",
   "metadata": {},
   "outputs": [],
   "source": [
    "def LiveCamEdgeDetection_Sobely(image_color):\n",
    "    image_gray = cv2.cvtColor(image_color, cv2.COLOR_BGR2GRAY)\n",
    "    y_sobel = cv2.Sobel(image_gray, cv2.CV_64F,1,0,ksize = 7)\n",
    "    return y_sobel"
   ]
  },
  {
   "cell_type": "code",
   "execution_count": 5,
   "id": "ce1800e1",
   "metadata": {},
   "outputs": [],
   "source": [
    "def LiveCamEdgeDetection_Sobelx(image_color):\n",
    "    image_gray = cv2.cvtColor(image_color, cv2.COLOR_BGR2GRAY)\n",
    "    x_sobel = cv2.Sobel(image_gray, cv2.CV_64F,0,1,ksize = 7)\n",
    "    return x_sobel"
   ]
  },
  {
   "cell_type": "code",
   "execution_count": 9,
   "id": "f8d0fe49",
   "metadata": {},
   "outputs": [],
   "source": [
    "cap = cv2.VideoCapture(0)\n",
    "\n",
    "while True: # will open up 5 frames using your webcam. one in color, 4 different types of edge dection\n",
    "    ret, frame = cap.read() #cap.read() returns a re bool to indicate sucess\n",
    "    cv2.imshow('live edge detection Sobel X', LiveCamEdgeDetection_Sobelx(frame)) \n",
    "    cv2.imshow('live edge detection Sobel y', LiveCamEdgeDetection_Sobely(frame))\n",
    "    cv2.imshow('live edge detection Sobel Canny', LiveCamEdgeDetection_Canny(frame))\n",
    "    cv2.imshow('live edge detection Sobel Laplace', LiveCamEdgeDetection_Laplace(frame))\n",
    "    cv2.imshow('webcam Video', frame)\n",
    "    if cv2.waitKey(1) == 13: #13 is the enter key\n",
    "        break\n",
    "cap.release()\n",
    "cv2.destroyAllWindows()"
   ]
  },
  {
   "cell_type": "code",
   "execution_count": null,
   "id": "cf24c0cd",
   "metadata": {},
   "outputs": [],
   "source": []
  }
 ],
 "metadata": {
  "kernelspec": {
   "display_name": "Python 3 (ipykernel)",
   "language": "python",
   "name": "python3"
  },
  "language_info": {
   "codemirror_mode": {
    "name": "ipython",
    "version": 3
   },
   "file_extension": ".py",
   "mimetype": "text/x-python",
   "name": "python",
   "nbconvert_exporter": "python",
   "pygments_lexer": "ipython3",
   "version": "3.9.12"
  }
 },
 "nbformat": 4,
 "nbformat_minor": 5
}
